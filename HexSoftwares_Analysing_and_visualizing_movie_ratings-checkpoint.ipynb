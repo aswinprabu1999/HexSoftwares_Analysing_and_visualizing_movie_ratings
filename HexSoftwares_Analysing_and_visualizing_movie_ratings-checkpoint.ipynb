{
 "cells": [
  {
   "cell_type": "code",
   "execution_count": 3,
   "id": "3da35f42-bee8-46c1-9e64-6ba755aaa4f9",
   "metadata": {},
   "outputs": [
    {
     "name": "stderr",
     "output_type": "stream",
     "text": [
      "c:\\conda_envs\\hex\\Lib\\site-packages\\tqdm\\auto.py:21: TqdmWarning: IProgress not found. Please update jupyter and ipywidgets. See https://ipywidgets.readthedocs.io/en/stable/user_install.html\n",
      "  from .autonotebook import tqdm as notebook_tqdm\n"
     ]
    },
    {
     "name": "stdout",
     "output_type": "stream",
     "text": [
      "Path to dataset files: C:\\Users\\Aswin prabu\\.cache\\kagglehub\\datasets\\thedevastator\\imdb-movie-ratings-dataset\\versions\\2\n"
     ]
    }
   ],
   "source": [
    "import kagglehub\n",
    "\n",
    "# Download latest version\n",
    "path = kagglehub.dataset_download(\"thedevastator/imdb-movie-ratings-dataset\")\n",
    "\n",
    "print(\"Path to dataset files:\", path)"
   ]
  },
  {
   "cell_type": "code",
   "execution_count": 2,
   "id": "6dcb634e-665e-4e96-b943-edbf1ca0d359",
   "metadata": {},
   "outputs": [
    {
     "name": "stdout",
     "output_type": "stream",
     "text": [
      "Collecting kagglehub\n",
      "  Using cached kagglehub-0.3.4-py3-none-any.whl.metadata (22 kB)\n",
      "Requirement already satisfied: packaging in c:\\conda_envs\\hex\\lib\\site-packages (from kagglehub) (24.2)\n",
      "Collecting requests (from kagglehub)\n",
      "  Using cached requests-2.32.3-py3-none-any.whl.metadata (4.6 kB)\n",
      "Collecting tqdm (from kagglehub)\n",
      "  Downloading tqdm-4.67.1-py3-none-any.whl.metadata (57 kB)\n",
      "Collecting charset-normalizer<4,>=2 (from requests->kagglehub)\n",
      "  Downloading charset_normalizer-3.4.0-cp312-cp312-win_amd64.whl.metadata (34 kB)\n",
      "Collecting idna<4,>=2.5 (from requests->kagglehub)\n",
      "  Using cached idna-3.10-py3-none-any.whl.metadata (10 kB)\n",
      "Collecting urllib3<3,>=1.21.1 (from requests->kagglehub)\n",
      "  Using cached urllib3-2.2.3-py3-none-any.whl.metadata (6.5 kB)\n",
      "Collecting certifi>=2017.4.17 (from requests->kagglehub)\n",
      "  Using cached certifi-2024.8.30-py3-none-any.whl.metadata (2.2 kB)\n",
      "Requirement already satisfied: colorama in c:\\conda_envs\\hex\\lib\\site-packages (from tqdm->kagglehub) (0.4.6)\n",
      "Using cached kagglehub-0.3.4-py3-none-any.whl (43 kB)\n",
      "Using cached requests-2.32.3-py3-none-any.whl (64 kB)\n",
      "Downloading tqdm-4.67.1-py3-none-any.whl (78 kB)\n",
      "Using cached certifi-2024.8.30-py3-none-any.whl (167 kB)\n",
      "Downloading charset_normalizer-3.4.0-cp312-cp312-win_amd64.whl (102 kB)\n",
      "Using cached idna-3.10-py3-none-any.whl (70 kB)\n",
      "Using cached urllib3-2.2.3-py3-none-any.whl (126 kB)\n",
      "Installing collected packages: urllib3, tqdm, idna, charset-normalizer, certifi, requests, kagglehub\n",
      "Successfully installed certifi-2024.8.30 charset-normalizer-3.4.0 idna-3.10 kagglehub-0.3.4 requests-2.32.3 tqdm-4.67.1 urllib3-2.2.3\n"
     ]
    }
   ],
   "source": [
    "!pip install kagglehub"
   ]
  },
  {
   "cell_type": "code",
   "execution_count": 4,
   "id": "a9cdc616-0164-484f-8526-d9c4c39e79d9",
   "metadata": {},
   "outputs": [],
   "source": [
    "import pandas as pd\n",
    "import matplotlib.pyplot as plt\n",
    "import numpy as np\n",
    "import seaborn as sns"
   ]
  },
  {
   "cell_type": "code",
   "execution_count": null,
   "id": "bbb0cf30-f9ac-48ff-bf0e-bce54a61bbf2",
   "metadata": {},
   "outputs": [
    {
     "data": {
      "text/html": [
       "<div>\n",
       "<style scoped>\n",
       "    .dataframe tbody tr th:only-of-type {\n",
       "        vertical-align: middle;\n",
       "    }\n",
       "\n",
       "    .dataframe tbody tr th {\n",
       "        vertical-align: top;\n",
       "    }\n",
       "\n",
       "    .dataframe thead th {\n",
       "        text-align: right;\n",
       "    }\n",
       "</style>\n",
       "<table border=\"1\" class=\"dataframe\">\n",
       "  <thead>\n",
       "    <tr style=\"text-align: right;\">\n",
       "      <th></th>\n",
       "      <th>index</th>\n",
       "      <th>director_name</th>\n",
       "      <th>duration</th>\n",
       "      <th>actor_2_name</th>\n",
       "      <th>genres</th>\n",
       "      <th>actor_1_name</th>\n",
       "      <th>movie_title</th>\n",
       "      <th>num_voted_users</th>\n",
       "      <th>actor_3_name</th>\n",
       "      <th>movie_imdb_link</th>\n",
       "      <th>num_user_for_reviews</th>\n",
       "      <th>language</th>\n",
       "      <th>country</th>\n",
       "      <th>title_year</th>\n",
       "      <th>imdb_score</th>\n",
       "    </tr>\n",
       "  </thead>\n",
       "  <tbody>\n",
       "    <tr>\n",
       "      <th>0</th>\n",
       "      <td>0</td>\n",
       "      <td>James Cameron</td>\n",
       "      <td>178.0</td>\n",
       "      <td>Joel David Moore</td>\n",
       "      <td>Action|Adventure|Fantasy|Sci-Fi</td>\n",
       "      <td>CCH Pounder</td>\n",
       "      <td>Avatar</td>\n",
       "      <td>886204</td>\n",
       "      <td>Wes Studi</td>\n",
       "      <td>http://www.imdb.com/title/tt0499549/?ref_=fn_t...</td>\n",
       "      <td>3054.0</td>\n",
       "      <td>English</td>\n",
       "      <td>USA</td>\n",
       "      <td>2009.0</td>\n",
       "      <td>7.9</td>\n",
       "    </tr>\n",
       "    <tr>\n",
       "      <th>1</th>\n",
       "      <td>1</td>\n",
       "      <td>Gore Verbinski</td>\n",
       "      <td>169.0</td>\n",
       "      <td>Orlando Bloom</td>\n",
       "      <td>Action|Adventure|Fantasy</td>\n",
       "      <td>Johnny Depp</td>\n",
       "      <td>Pirates of the Caribbean: At World's End</td>\n",
       "      <td>471220</td>\n",
       "      <td>Jack Davenport</td>\n",
       "      <td>http://www.imdb.com/title/tt0449088/?ref_=fn_t...</td>\n",
       "      <td>1238.0</td>\n",
       "      <td>English</td>\n",
       "      <td>USA</td>\n",
       "      <td>2007.0</td>\n",
       "      <td>7.1</td>\n",
       "    </tr>\n",
       "    <tr>\n",
       "      <th>2</th>\n",
       "      <td>2</td>\n",
       "      <td>Sam Mendes</td>\n",
       "      <td>148.0</td>\n",
       "      <td>Rory Kinnear</td>\n",
       "      <td>Action|Adventure|Thriller</td>\n",
       "      <td>Christoph Waltz</td>\n",
       "      <td>Spectre</td>\n",
       "      <td>275868</td>\n",
       "      <td>Stephanie Sigman</td>\n",
       "      <td>http://www.imdb.com/title/tt2379713/?ref_=fn_t...</td>\n",
       "      <td>994.0</td>\n",
       "      <td>English</td>\n",
       "      <td>UK</td>\n",
       "      <td>2015.0</td>\n",
       "      <td>6.8</td>\n",
       "    </tr>\n",
       "    <tr>\n",
       "      <th>3</th>\n",
       "      <td>3</td>\n",
       "      <td>Christopher Nolan</td>\n",
       "      <td>164.0</td>\n",
       "      <td>Christian Bale</td>\n",
       "      <td>Action|Thriller</td>\n",
       "      <td>Tom Hardy</td>\n",
       "      <td>The Dark Knight Rises</td>\n",
       "      <td>1144337</td>\n",
       "      <td>Joseph Gordon-Levitt</td>\n",
       "      <td>http://www.imdb.com/title/tt1345836/?ref_=fn_t...</td>\n",
       "      <td>2701.0</td>\n",
       "      <td>English</td>\n",
       "      <td>USA</td>\n",
       "      <td>2012.0</td>\n",
       "      <td>8.5</td>\n",
       "    </tr>\n",
       "    <tr>\n",
       "      <th>4</th>\n",
       "      <td>4</td>\n",
       "      <td>Doug Walker</td>\n",
       "      <td>NaN</td>\n",
       "      <td>Rob Walker</td>\n",
       "      <td>Documentary</td>\n",
       "      <td>Doug Walker</td>\n",
       "      <td>Star Wars: Episode VII - The Force Awakens    ...</td>\n",
       "      <td>8</td>\n",
       "      <td>NaN</td>\n",
       "      <td>http://www.imdb.com/title/tt5289954/?ref_=fn_t...</td>\n",
       "      <td>NaN</td>\n",
       "      <td>NaN</td>\n",
       "      <td>NaN</td>\n",
       "      <td>NaN</td>\n",
       "      <td>7.1</td>\n",
       "    </tr>\n",
       "  </tbody>\n",
       "</table>\n",
       "</div>"
      ],
      "text/plain": [
       "   index      director_name  duration      actor_2_name  \\\n",
       "0      0      James Cameron     178.0  Joel David Moore   \n",
       "1      1     Gore Verbinski     169.0     Orlando Bloom   \n",
       "2      2         Sam Mendes     148.0      Rory Kinnear   \n",
       "3      3  Christopher Nolan     164.0    Christian Bale   \n",
       "4      4        Doug Walker       NaN        Rob Walker   \n",
       "\n",
       "                            genres     actor_1_name  \\\n",
       "0  Action|Adventure|Fantasy|Sci-Fi      CCH Pounder   \n",
       "1         Action|Adventure|Fantasy      Johnny Depp   \n",
       "2        Action|Adventure|Thriller  Christoph Waltz   \n",
       "3                  Action|Thriller        Tom Hardy   \n",
       "4                      Documentary      Doug Walker   \n",
       "\n",
       "                                         movie_title  num_voted_users  \\\n",
       "0                                            Avatar            886204   \n",
       "1          Pirates of the Caribbean: At World's End            471220   \n",
       "2                                           Spectre            275868   \n",
       "3                             The Dark Knight Rises           1144337   \n",
       "4  Star Wars: Episode VII - The Force Awakens    ...                8   \n",
       "\n",
       "           actor_3_name                                    movie_imdb_link  \\\n",
       "0             Wes Studi  http://www.imdb.com/title/tt0499549/?ref_=fn_t...   \n",
       "1        Jack Davenport  http://www.imdb.com/title/tt0449088/?ref_=fn_t...   \n",
       "2      Stephanie Sigman  http://www.imdb.com/title/tt2379713/?ref_=fn_t...   \n",
       "3  Joseph Gordon-Levitt  http://www.imdb.com/title/tt1345836/?ref_=fn_t...   \n",
       "4                   NaN  http://www.imdb.com/title/tt5289954/?ref_=fn_t...   \n",
       "\n",
       "   num_user_for_reviews language country  title_year  imdb_score  \n",
       "0                3054.0  English     USA      2009.0         7.9  \n",
       "1                1238.0  English     USA      2007.0         7.1  \n",
       "2                 994.0  English      UK      2015.0         6.8  \n",
       "3                2701.0  English     USA      2012.0         8.5  \n",
       "4                   NaN      NaN     NaN         NaN         7.1  "
      ]
     },
     "execution_count": 5,
     "metadata": {},
     "output_type": "execute_result"
    }
   ],
   "source": [
    "df=pd.read_csv(r\"C:\\Users\\Aswin prabu\\.cache\\kagglehub\\datasets\\thedevastator\\imdb-movie-ratings-dataset\\versions\\2\\movie_data.csv\",index_col=None)\n",
    "df.head()"
   ]
  },
  {
   "cell_type": "code",
   "execution_count": 7,
   "id": "127381f5-d041-43c9-bf7b-506d9051c8b6",
   "metadata": {},
   "outputs": [
    {
     "data": {
      "text/plain": [
       "(5043, 15)"
      ]
     },
     "execution_count": 7,
     "metadata": {},
     "output_type": "execute_result"
    }
   ],
   "source": [
    "df.shape"
   ]
  },
  {
   "cell_type": "code",
   "execution_count": 35,
   "id": "39edf68c-6ba2-456b-87d3-b396fddbd061",
   "metadata": {},
   "outputs": [
    {
     "data": {
      "text/plain": [
       "director_name             0\n",
       "duration                  0\n",
       "actor_2_name              0\n",
       "genres                    0\n",
       "actor_1_name              0\n",
       "movie_title               0\n",
       "num_voted_users           0\n",
       "actor_3_name              0\n",
       "num_user_for_reviews      6\n",
       "language                 14\n",
       "country                   5\n",
       "title_year              108\n",
       "imdb_score                0\n",
       "dtype: int64"
      ]
     },
     "execution_count": 35,
     "metadata": {},
     "output_type": "execute_result"
    }
   ],
   "source": [
    "df.isnull().sum()"
   ]
  },
  {
   "cell_type": "code",
   "execution_count": 13,
   "id": "c528b68a-3214-4ac8-a97c-7d0381f0a4f1",
   "metadata": {},
   "outputs": [
    {
     "data": {
      "text/plain": [
       "0"
      ]
     },
     "execution_count": 13,
     "metadata": {},
     "output_type": "execute_result"
    }
   ],
   "source": [
    "len(df[df.duplicated()])"
   ]
  },
  {
   "cell_type": "code",
   "execution_count": 17,
   "id": "376d4455-42b9-40fb-95aa-6d2cddef5681",
   "metadata": {},
   "outputs": [],
   "source": [
    "# Drop unnecessary columns\n",
    "df = df.drop(columns=[\"index\", \"movie_imdb_link\"])"
   ]
  },
  {
   "cell_type": "code",
   "execution_count": 19,
   "id": "fc97eb60-e009-4c1a-9fa6-176fc6a0cfc5",
   "metadata": {},
   "outputs": [
    {
     "data": {
      "text/plain": [
       "2399"
      ]
     },
     "execution_count": 19,
     "metadata": {},
     "output_type": "execute_result"
    }
   ],
   "source": [
    "len(df['director_name'].unique())"
   ]
  },
  {
   "cell_type": "code",
   "execution_count": 21,
   "id": "64beb68a-e977-4a17-84be-e1ee28e556e1",
   "metadata": {},
   "outputs": [
    {
     "data": {
      "text/plain": [
       "director_name\n",
       "Steven Spielberg    26\n",
       "Woody Allen         22\n",
       "Clint Eastwood      20\n",
       "Martin Scorsese     20\n",
       "Ridley Scott        17\n",
       "                    ..\n",
       "John Crowley         1\n",
       "Rob Pritts           1\n",
       "David S. Ward        1\n",
       "R.J. Cutler          1\n",
       "Daniel Hsia          1\n",
       "Name: count, Length: 2398, dtype: int64"
      ]
     },
     "execution_count": 21,
     "metadata": {},
     "output_type": "execute_result"
    }
   ],
   "source": [
    "df['director_name'].value_counts()"
   ]
  },
  {
   "cell_type": "code",
   "execution_count": 22,
   "id": "7fb41a5a-6d32-40d5-a02c-b43458125f09",
   "metadata": {},
   "outputs": [],
   "source": [
    "df[\"director_name\"] = df.groupby(\"genres\")[\"director_name\"].transform(\n",
    "    lambda x: x.fillna(x.mode()[0] if not x.mode().empty else \"Unknown\")\n",
    ")\n"
   ]
  },
  {
   "cell_type": "code",
   "execution_count": 32,
   "id": "bee00266-c81f-451a-bb0a-1d332c16347f",
   "metadata": {},
   "outputs": [
    {
     "data": {
      "text/plain": [
       "director_name             0\n",
       "duration                  0\n",
       "actor_2_name              0\n",
       "genres                    0\n",
       "actor_1_name              0\n",
       "movie_title               0\n",
       "num_voted_users           0\n",
       "actor_3_name              0\n",
       "num_user_for_reviews     21\n",
       "language                 14\n",
       "country                   5\n",
       "title_year              108\n",
       "imdb_score                0\n",
       "dtype: int64"
      ]
     },
     "execution_count": 32,
     "metadata": {},
     "output_type": "execute_result"
    }
   ],
   "source": [
    "df.isnull().sum()"
   ]
  },
  {
   "cell_type": "code",
   "execution_count": 25,
   "id": "b53266a1-1b71-4754-a120-053d26e450de",
   "metadata": {},
   "outputs": [
    {
     "data": {
      "text/plain": [
       "107.2010739856802"
      ]
     },
     "execution_count": 25,
     "metadata": {},
     "output_type": "execute_result"
    }
   ],
   "source": [
    "df.duration.mean()"
   ]
  },
  {
   "cell_type": "code",
   "execution_count": 26,
   "id": "c19f57f3-268a-4b10-80ed-87b68e8ea213",
   "metadata": {},
   "outputs": [],
   "source": [
    "df['duration'].fillna(df.duration.mean(),inplace=True)"
   ]
  },
  {
   "cell_type": "code",
   "execution_count": 28,
   "id": "5a544f7a-7799-4575-8ac9-1718eeec7682",
   "metadata": {},
   "outputs": [],
   "source": [
    "df['actor_1_name'].fillna(df.actor_1_name.mode()[0],inplace=True)"
   ]
  },
  {
   "cell_type": "code",
   "execution_count": 31,
   "id": "355f6a8d-3214-4361-9ebf-d4e5741c6470",
   "metadata": {},
   "outputs": [],
   "source": [
    "df['actor_2_name'].fillna(df.actor_2_name.mode()[0],inplace=True)"
   ]
  },
  {
   "cell_type": "code",
   "execution_count": 30,
   "id": "123cd144-b12b-43e7-8103-e0f774455734",
   "metadata": {},
   "outputs": [],
   "source": [
    "df['actor_3_name'].fillna(df.actor_3_name.mode()[0],inplace=True)"
   ]
  },
  {
   "cell_type": "code",
   "execution_count": 44,
   "id": "7cc6e8f4-983c-4f38-be75-003430bac4cc",
   "metadata": {},
   "outputs": [
    {
     "data": {
      "text/plain": [
       "director_name             0\n",
       "duration                  0\n",
       "actor_2_name              0\n",
       "genres                    0\n",
       "actor_1_name              0\n",
       "movie_title               0\n",
       "num_voted_users           0\n",
       "actor_3_name              0\n",
       "num_user_for_reviews      0\n",
       "language                  0\n",
       "country                   0\n",
       "title_year              104\n",
       "imdb_score                0\n",
       "dtype: int64"
      ]
     },
     "execution_count": 44,
     "metadata": {},
     "output_type": "execute_result"
    }
   ],
   "source": [
    "df['num_user_for_reviews'] = df.groupby('genres')['num_user_for_reviews'].transform(lambda x: x.fillna(x.mean()))\n",
    "df.isnull().sum()"
   ]
  },
  {
   "cell_type": "code",
   "execution_count": 37,
   "id": "573a34d2-9472-40d2-9e22-042bede6db52",
   "metadata": {},
   "outputs": [],
   "source": [
    "df = df.dropna(subset=['num_user_for_reviews'])"
   ]
  },
  {
   "cell_type": "code",
   "execution_count": 39,
   "id": "6f1c0fdb-7094-40e1-bb21-a37fd81c061b",
   "metadata": {
    "scrolled": true
   },
   "outputs": [
    {
     "data": {
      "text/plain": [
       "language\n",
       "English       4699\n",
       "French          73\n",
       "Spanish         40\n",
       "Hindi           28\n",
       "Mandarin        26\n",
       "German          19\n",
       "Japanese        18\n",
       "Cantonese       11\n",
       "Russian         11\n",
       "Italian         11\n",
       "Portuguese       8\n",
       "Korean           8\n",
       "Danish           5\n",
       "Hebrew           5\n",
       "Swedish          5\n",
       "Polish           4\n",
       "Norwegian        4\n",
       "Arabic           4\n",
       "Persian          4\n",
       "Dutch            4\n",
       "Chinese          3\n",
       "Thai             3\n",
       "Icelandic        2\n",
       "Aboriginal       2\n",
       "Indonesian       2\n",
       "Zulu             2\n",
       "Romanian         2\n",
       "Dari             2\n",
       "Panjabi          1\n",
       "Vietnamese       1\n",
       "Slovenian        1\n",
       "Greek            1\n",
       "Dzongkha         1\n",
       "Tamil            1\n",
       "Urdu             1\n",
       "Telugu           1\n",
       "Kannada          1\n",
       "Czech            1\n",
       "Hungarian        1\n",
       "Bosnian          1\n",
       "Filipino         1\n",
       "Mongolian        1\n",
       "Maya             1\n",
       "Aramaic          1\n",
       "Kazakh           1\n",
       "Swahili          1\n",
       "Name: count, dtype: int64"
      ]
     },
     "execution_count": 39,
     "metadata": {},
     "output_type": "execute_result"
    }
   ],
   "source": [
    "df['language'].value_counts()"
   ]
  },
  {
   "cell_type": "code",
   "execution_count": 40,
   "id": "ed52b988-5e49-470a-9088-83cf3335e2e3",
   "metadata": {},
   "outputs": [
    {
     "name": "stderr",
     "output_type": "stream",
     "text": [
      "C:\\Temp\\ipykernel_2212\\3626644678.py:1: SettingWithCopyWarning: \n",
      "A value is trying to be set on a copy of a slice from a DataFrame\n",
      "\n",
      "See the caveats in the documentation: https://pandas.pydata.org/pandas-docs/stable/user_guide/indexing.html#returning-a-view-versus-a-copy\n",
      "  df['language'].fillna(df['language'].mode()[0],inplace=True)\n"
     ]
    }
   ],
   "source": [
    "df['language'].fillna(df['language'].mode()[0],inplace=True)"
   ]
  },
  {
   "cell_type": "code",
   "execution_count": 42,
   "id": "cec107fe-009b-4a40-a7aa-4b8c1112cf7d",
   "metadata": {},
   "outputs": [
    {
     "data": {
      "text/plain": [
       "country\n",
       "USA              3803\n",
       "UK                448\n",
       "France            154\n",
       "Canada            126\n",
       "Germany            97\n",
       "                 ... \n",
       "Slovakia            1\n",
       "Chile               1\n",
       "Cambodia            1\n",
       "Official site       1\n",
       "Philippines         1\n",
       "Name: count, Length: 64, dtype: int64"
      ]
     },
     "execution_count": 42,
     "metadata": {},
     "output_type": "execute_result"
    }
   ],
   "source": [
    "df['country'].value_counts()"
   ]
  },
  {
   "cell_type": "code",
   "execution_count": 43,
   "id": "0afd0e6d-974b-416d-8546-59aadaafb70e",
   "metadata": {},
   "outputs": [
    {
     "name": "stderr",
     "output_type": "stream",
     "text": [
      "C:\\Temp\\ipykernel_2212\\3677957074.py:1: SettingWithCopyWarning: \n",
      "A value is trying to be set on a copy of a slice from a DataFrame\n",
      "\n",
      "See the caveats in the documentation: https://pandas.pydata.org/pandas-docs/stable/user_guide/indexing.html#returning-a-view-versus-a-copy\n",
      "  df.dropna(subset=['country'],inplace=True)\n"
     ]
    }
   ],
   "source": [
    "df.dropna(subset=['country'],inplace=True)"
   ]
  },
  {
   "cell_type": "code",
   "execution_count": 45,
   "id": "d7a4d3e7-9522-4d87-9f5e-fa09e8649b94",
   "metadata": {},
   "outputs": [
    {
     "data": {
      "text/plain": [
       "0       2009.0\n",
       "1       2007.0\n",
       "2       2015.0\n",
       "3       2012.0\n",
       "5       2012.0\n",
       "         ...  \n",
       "5038    2013.0\n",
       "5039       NaN\n",
       "5040    2013.0\n",
       "5041    2012.0\n",
       "5042    2004.0\n",
       "Name: title_year, Length: 5033, dtype: float64"
      ]
     },
     "execution_count": 45,
     "metadata": {},
     "output_type": "execute_result"
    }
   ],
   "source": [
    "df['title_year']"
   ]
  },
  {
   "cell_type": "code",
   "execution_count": 46,
   "id": "a6fe4adf-f57f-451b-b175-3fc24bd87b74",
   "metadata": {},
   "outputs": [],
   "source": [
    "most_common_year = df['title_year'].mode()[0]\n",
    "df['title_year'].fillna(most_common_year, inplace=True)"
   ]
  },
  {
   "cell_type": "code",
   "execution_count": 47,
   "id": "2a0e0a6f-76c4-464e-92bd-d5b34b63d9aa",
   "metadata": {},
   "outputs": [
    {
     "data": {
      "text/plain": [
       "director_name           0\n",
       "duration                0\n",
       "actor_2_name            0\n",
       "genres                  0\n",
       "actor_1_name            0\n",
       "movie_title             0\n",
       "num_voted_users         0\n",
       "actor_3_name            0\n",
       "num_user_for_reviews    0\n",
       "language                0\n",
       "country                 0\n",
       "title_year              0\n",
       "imdb_score              0\n",
       "dtype: int64"
      ]
     },
     "execution_count": 47,
     "metadata": {},
     "output_type": "execute_result"
    }
   ],
   "source": [
    "df.isnull().sum()"
   ]
  },
  {
   "cell_type": "code",
   "execution_count": 48,
   "id": "9a6eb6b2-0c55-4649-a6a4-8ba3d1e8d2df",
   "metadata": {},
   "outputs": [
    {
     "name": "stdout",
     "output_type": "stream",
     "text": [
      "Mean IMDb Rating: 6.44180409298629\n",
      "Median IMDb Rating: 6.6\n",
      "Mode IMDb Rating: 6.7\n"
     ]
    }
   ],
   "source": [
    "# Calculate summary statistics for 'imdb_score'\n",
    "mean_rating = df['imdb_score'].mean()\n",
    "median_rating = df['imdb_score'].median()\n",
    "mode_rating = df['imdb_score'].mode()[0]\n",
    "\n",
    "print(f\"Mean IMDb Rating: {mean_rating}\")\n",
    "print(f\"Median IMDb Rating: {median_rating}\")\n",
    "print(f\"Mode IMDb Rating: {mode_rating}\")\n"
   ]
  },
  {
   "cell_type": "code",
   "execution_count": 50,
   "id": "881125a3-768f-408d-96f7-325d716e5ffc",
   "metadata": {},
   "outputs": [],
   "source": [
    "from scipy.stats import stats"
   ]
  },
  {
   "cell_type": "code",
   "execution_count": null,
   "id": "f46e4285-b8ef-4a64-81f9-f8396be89560",
   "metadata": {},
   "outputs": [],
   "source": [
    "stats.probplot()"
   ]
  },
  {
   "cell_type": "code",
   "execution_count": 51,
   "id": "1e6a3790-a95a-43c2-981a-70b7f6206e3f",
   "metadata": {},
   "outputs": [
    {
     "name": "stderr",
     "output_type": "stream",
     "text": [
      "C:\\ProgramData\\anaconda3\\Lib\\site-packages\\seaborn\\_oldcore.py:1119: FutureWarning: use_inf_as_na option is deprecated and will be removed in a future version. Convert inf values to NaN before operating instead.\n",
      "  with pd.option_context('mode.use_inf_as_na', True):\n"
     ]
    },
    {
     "data": {
      "image/png": "[encoded data removed]",
      "text/plain": [
       "<Figure size 1000x600 with 1 Axes>"
      ]
     },
     "metadata": {},
     "output_type": "display_data"
    }
   ],
   "source": [
    "import matplotlib.pyplot as plt\n",
    "import seaborn as sns\n",
    "\n",
    "# Plot histogram of IMDb ratings\n",
    "plt.figure(figsize=(10, 6))\n",
    "sns.histplot(df['imdb_score'], kde=True, bins=20)\n",
    "plt.title(\"Distribution of IMDb Ratings\")\n",
    "plt.xlabel(\"IMDb Rating\")\n",
    "plt.ylabel(\"Frequency\")\n",
    "plt.show()\n"
   ]
  },
  {
   "cell_type": "code",
   "execution_count": 52,
   "id": "65df2b8c-b484-436b-9e94-8f8e69d8a206",
   "metadata": {},
   "outputs": [
    {
     "data": {
      "image/png": "[encoded data removed]",
      "text/plain": [
       "<Figure size 1000x600 with 1 Axes>"
      ]
     },
     "metadata": {},
     "output_type": "display_data"
    }
   ],
   "source": [
    "# Plot a box plot for IMDb ratings\n",
    "plt.figure(figsize=(10, 6))\n",
    "sns.boxplot(x=df['imdb_score'])\n",
    "plt.title(\"Box Plot of IMDb Ratings\")\n",
    "plt.xlabel(\"IMDb Rating\")\n",
    "plt.show()\n"
   ]
  },
  {
   "cell_type": "code",
   "execution_count": 53,
   "id": "a5f3e695-d374-4175-9289-11031eae8326",
   "metadata": {},
   "outputs": [
    {
     "name": "stdout",
     "output_type": "stream",
     "text": [
      "Top 10 Highest-Rated Movies:\n"
     ]
    },
    {
     "data": {
      "text/html": [
       "<div>\n",
       "<style scoped>\n",
       "    .dataframe tbody tr th:only-of-type {\n",
       "        vertical-align: middle;\n",
       "    }\n",
       "\n",
       "    .dataframe tbody tr th {\n",
       "        vertical-align: top;\n",
       "    }\n",
       "\n",
       "    .dataframe thead th {\n",
       "        text-align: right;\n",
       "    }\n",
       "</style>\n",
       "<table border=\"1\" class=\"dataframe\">\n",
       "  <thead>\n",
       "    <tr style=\"text-align: right;\">\n",
       "      <th></th>\n",
       "      <th>movie_title</th>\n",
       "      <th>imdb_score</th>\n",
       "    </tr>\n",
       "  </thead>\n",
       "  <tbody>\n",
       "    <tr>\n",
       "      <th>2765</th>\n",
       "      <td>Towering Inferno</td>\n",
       "      <td>9.5</td>\n",
       "    </tr>\n",
       "    <tr>\n",
       "      <th>1937</th>\n",
       "      <td>The Shawshank Redemption</td>\n",
       "      <td>9.3</td>\n",
       "    </tr>\n",
       "    <tr>\n",
       "      <th>3466</th>\n",
       "      <td>The Godfather</td>\n",
       "      <td>9.2</td>\n",
       "    </tr>\n",
       "    <tr>\n",
       "      <th>2824</th>\n",
       "      <td>Dekalog</td>\n",
       "      <td>9.1</td>\n",
       "    </tr>\n",
       "    <tr>\n",
       "      <th>3207</th>\n",
       "      <td>Dekalog</td>\n",
       "      <td>9.1</td>\n",
       "    </tr>\n",
       "    <tr>\n",
       "      <th>4409</th>\n",
       "      <td>Kickboxer: Vengeance</td>\n",
       "      <td>9.1</td>\n",
       "    </tr>\n",
       "    <tr>\n",
       "      <th>3481</th>\n",
       "      <td>Fargo</td>\n",
       "      <td>9.0</td>\n",
       "    </tr>\n",
       "    <tr>\n",
       "      <th>2837</th>\n",
       "      <td>The Godfather: Part II</td>\n",
       "      <td>9.0</td>\n",
       "    </tr>\n",
       "    <tr>\n",
       "      <th>66</th>\n",
       "      <td>The Dark Knight</td>\n",
       "      <td>9.0</td>\n",
       "    </tr>\n",
       "    <tr>\n",
       "      <th>1874</th>\n",
       "      <td>Schindler's List</td>\n",
       "      <td>8.9</td>\n",
       "    </tr>\n",
       "  </tbody>\n",
       "</table>\n",
       "</div>"
      ],
      "text/plain": [
       "                        movie_title  imdb_score\n",
       "2765  Towering Inferno                      9.5\n",
       "1937      The Shawshank Redemption          9.3\n",
       "3466                 The Godfather          9.2\n",
       "2824           Dekalog                      9.1\n",
       "3207           Dekalog                      9.1\n",
       "4409          Kickboxer: Vengeance          9.1\n",
       "3481             Fargo                      9.0\n",
       "2837        The Godfather: Part II          9.0\n",
       "66                 The Dark Knight          9.0\n",
       "1874              Schindler's List          8.9"
      ]
     },
     "execution_count": 53,
     "metadata": {},
     "output_type": "execute_result"
    }
   ],
   "source": [
    "# Get the top 10 highest-rated movies\n",
    "top_movies = df[['movie_title', 'imdb_score']].sort_values(by='imdb_score', ascending=False).head(10)\n",
    "print(\"Top 10 Highest-Rated Movies:\")\n",
    "top_movies\n"
   ]
  },
  {
   "cell_type": "code",
   "execution_count": null,
   "id": "74b8cc29-9fd0-461e-a66f-c166d678402d",
   "metadata": {},
   "outputs": [],
   "source": []
  },
  {
   "cell_type": "code",
   "execution_count": null,
   "id": "9efb2907-50ec-4ba2-9b3a-819ae46c10d1",
   "metadata": {},
   "outputs": [],
   "source": []
  },
  {
   "cell_type": "code",
   "execution_count": null,
   "id": "62d8a09d-66a2-4e5d-8676-1d479ac3afab",
   "metadata": {},
   "outputs": [],
   "source": []
  },
  {
   "cell_type": "code",
   "execution_count": null,
   "id": "f96ea858-86c2-4960-9dff-f8ce1a0e56c0",
   "metadata": {},
   "outputs": [],
   "source": []
  },
  {
   "cell_type": "code",
   "execution_count": null,
   "id": "8e8b0f60-1ae7-427f-96a7-031c700f8aa4",
   "metadata": {},
   "outputs": [],
   "source": []
  },
  {
   "cell_type": "code",
   "execution_count": null,
   "id": "a76f0203-fcd1-473c-885f-94f834e2e779",
   "metadata": {},
   "outputs": [],
   "source": []
  },
  {
   "cell_type": "code",
   "execution_count": null,
   "id": "0f1c0ea2-0235-4d26-b72b-5d3133f89a3e",
   "metadata": {},
   "outputs": [],
   "source": []
  },
  {
   "cell_type": "code",
   "execution_count": null,
   "id": "d41d1984-aae3-4543-a160-e8129a50d642",
   "metadata": {},
   "outputs": [],
   "source": []
  },
  {
   "cell_type": "code",
   "execution_count": null,
   "id": "3aa59126-d3db-4ee5-b83d-b44ca85f1f07",
   "metadata": {},
   "outputs": [],
   "source": []
  },
  {
   "cell_type": "code",
   "execution_count": null,
   "id": "8fbca330-1d2e-49d1-bc25-da0dccdb4127",
   "metadata": {},
   "outputs": [],
   "source": []
  },
  {
   "cell_type": "code",
   "execution_count": null,
   "id": "50e34848-aa0e-4ec4-a017-de7f225f2e38",
   "metadata": {},
   "outputs": [],
   "source": []
  },
  {
   "cell_type": "code",
   "execution_count": null,
   "id": "4461ec3d-5228-450a-bff7-11b4b3623546",
   "metadata": {},
   "outputs": [],
   "source": []
  },
  {
   "cell_type": "code",
   "execution_count": null,
   "id": "eee6c0da-d043-4447-8f0c-c56253c403b7",
   "metadata": {},
   "outputs": [],
   "source": []
  },
  {
   "cell_type": "code",
   "execution_count": null,
   "id": "80a21ac2-aa99-447c-8173-13f5a77ec37b",
   "metadata": {},
   "outputs": [],
   "source": []
  },
  {
   "cell_type": "code",
   "execution_count": null,
   "id": "f4496e19-6315-41e7-b92c-8f0e80e56997",
   "metadata": {},
   "outputs": [],
   "source": []
  },
  {
   "cell_type": "code",
   "execution_count": null,
   "id": "c14336e8-b169-4999-b64f-7d8829887126",
   "metadata": {},
   "outputs": [],
   "source": []
  }
 ],
 "metadata": {
  "kernelspec": {
   "display_name": "hex",
   "language": "python",
   "name": "python3"
  },
  "language_info": {
   "codemirror_mode": {
    "name": "ipython",
    "version": 3
   },
   "file_extension": ".py",
   "mimetype": "text/x-python",
   "name": "python",
   "nbconvert_exporter": "python",
   "pygments_lexer": "ipython3",
   "version": "3.12.0"
  }
 },
 "nbformat": 4,
 "nbformat_minor": 5
}
